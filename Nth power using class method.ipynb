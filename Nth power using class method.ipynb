{
 "cells": [
  {
   "cell_type": "markdown",
   "id": "0db80e5d",
   "metadata": {},
   "source": [
    "### Write a Python class to implement pow(x, n)\n",
    "\n"
   ]
  },
  {
   "cell_type": "markdown",
   "id": "411dbd37",
   "metadata": {},
   "source": [
    "#### Explanation:\n",
    "\n",
    "#### Use should be able to find the nth power of the x.(i.e x*x*x*x...n times)\n",
    "\n",
    "#### You must implement it using Class\n",
    "\n",
    "#### Sample Input:\n",
    "\n",
    "#### x: 10\n",
    "\n",
    "#### n: 2\n",
    "\n",
    "#### Sample Output:\n",
    "\n",
    "#### 100"
   ]
  },
  {
   "cell_type": "code",
   "execution_count": 3,
   "id": "b0525986",
   "metadata": {},
   "outputs": [],
   "source": [
    "class power:\n",
    "    def pow(self,x,n):\n",
    "        if x==0 or x==1 or n==1:\n",
    "            return x\n",
    "        if x==-1:\n",
    "            if n%2 == 0:\n",
    "                return 1\n",
    "            else:\n",
    "                return -1\n",
    "        if n==0:\n",
    "            return 1\n",
    "        if n<0:\n",
    "            return 1/self.pow(x,-n)\n",
    "        answer = self.pow(x,n//2)\n",
    "        if n%2 == 0:\n",
    "            return answer*answer"
   ]
  },
  {
   "cell_type": "code",
   "execution_count": 4,
   "id": "e44160c5",
   "metadata": {},
   "outputs": [
    {
     "data": {
      "text/plain": [
       "<__main__.power at 0x2034aad90>"
      ]
     },
     "execution_count": 4,
     "metadata": {},
     "output_type": "execute_result"
    }
   ],
   "source": [
    "power()"
   ]
  },
  {
   "cell_type": "code",
   "execution_count": 5,
   "id": "4ec9e961",
   "metadata": {},
   "outputs": [
    {
     "data": {
      "text/plain": [
       "100"
      ]
     },
     "execution_count": 5,
     "metadata": {},
     "output_type": "execute_result"
    }
   ],
   "source": [
    "pow(10,2)"
   ]
  },
  {
   "cell_type": "code",
   "execution_count": 6,
   "id": "7540b9fd",
   "metadata": {},
   "outputs": [
    {
     "data": {
      "text/plain": [
       "0.1"
      ]
     },
     "execution_count": 6,
     "metadata": {},
     "output_type": "execute_result"
    }
   ],
   "source": [
    "pow(10,-1)"
   ]
  },
  {
   "cell_type": "code",
   "execution_count": 8,
   "id": "d4ecab41",
   "metadata": {},
   "outputs": [
    {
     "data": {
      "text/plain": [
       "-1"
      ]
     },
     "execution_count": 8,
     "metadata": {},
     "output_type": "execute_result"
    }
   ],
   "source": [
    "pow(-1,15)"
   ]
  },
  {
   "cell_type": "code",
   "execution_count": null,
   "id": "9dc3a29d",
   "metadata": {},
   "outputs": [],
   "source": []
  }
 ],
 "metadata": {
  "kernelspec": {
   "display_name": "Python 3 (ipykernel)",
   "language": "python",
   "name": "python3"
  },
  "language_info": {
   "codemirror_mode": {
    "name": "ipython",
    "version": 3
   },
   "file_extension": ".py",
   "mimetype": "text/x-python",
   "name": "python",
   "nbconvert_exporter": "python",
   "pygments_lexer": "ipython3",
   "version": "3.9.7"
  }
 },
 "nbformat": 4,
 "nbformat_minor": 5
}
