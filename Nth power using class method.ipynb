{
 "cells": [
  {
   "cell_type": "markdown",
   "id": "2d11c2f5",
   "metadata": {},
   "source": [
    "### Write a Python class to implement pow(x, n)\n",
    "\n"
   ]
  },
  {
   "cell_type": "markdown",
   "id": "1a1f3790",
   "metadata": {},
   "source": [
    "#### Explanation:\n",
    "\n",
    "#### Use should be able to find the nth power of the x.(i.e x*x*x*x...n times)\n",
    "\n",
    "#### You must implement it using Class\n",
    "\n",
    "#### Sample Input:\n",
    "\n",
    "#### x: 10\n",
    "\n",
    "#### n: 2\n",
    "\n",
    "#### Sample Output:\n",
    "\n",
    "#### 100"
   ]
  },
  {
   "cell_type": "code",
   "execution_count": 38,
   "id": "be6c7f0a",
   "metadata": {},
   "outputs": [],
   "source": [
    "class power:\n",
    "    def pow(self,x,n):\n",
    "        if x==0 or x==1 or n==1:\n",
    "            return x\n",
    "        if x==-1:\n",
    "            if n%2 == 0:\n",
    "                return 1\n",
    "            else:\n",
    "                return -1\n",
    "        if n==0:\n",
    "            return 1\n",
    "        if n<0:\n",
    "            return 1/self.pow(x,-n)\n",
    "        answer = self.pow(x,n//2)\n",
    "        if n%2 == 0:\n",
    "            return answer*answer\n",
    "        return answer*answer*x\n",
    "      "
   ]
  },
  {
   "cell_type": "code",
   "execution_count": 39,
   "id": "7b23f81e",
   "metadata": {},
   "outputs": [],
   "source": [
    "obj = power()"
   ]
  },
  {
   "cell_type": "code",
   "execution_count": 40,
   "id": "a562adcb",
   "metadata": {},
   "outputs": [
    {
     "data": {
      "text/plain": [
       "100"
      ]
     },
     "execution_count": 40,
     "metadata": {},
     "output_type": "execute_result"
    }
   ],
   "source": [
    "obj.pow(10,2)"
   ]
  },
  {
   "cell_type": "code",
   "execution_count": 41,
   "id": "21f9dca2",
   "metadata": {},
   "outputs": [
    {
     "data": {
      "text/plain": [
       "0.1"
      ]
     },
     "execution_count": 41,
     "metadata": {},
     "output_type": "execute_result"
    }
   ],
   "source": [
    "obj.pow(10,-1)"
   ]
  },
  {
   "cell_type": "code",
   "execution_count": 36,
   "id": "74d20bf8",
   "metadata": {},
   "outputs": [
    {
     "data": {
      "text/plain": [
       "-1"
      ]
     },
     "execution_count": 36,
     "metadata": {},
     "output_type": "execute_result"
    }
   ],
   "source": [
    "obj.pow(-1,15)"
   ]
  },
  {
   "cell_type": "code",
   "execution_count": 37,
   "id": "6975a366",
   "metadata": {},
   "outputs": [
    {
     "data": {
      "text/plain": [
       "1000"
      ]
     },
     "execution_count": 37,
     "metadata": {},
     "output_type": "execute_result"
    }
   ],
   "source": [
    "obj.pow(10,3)"
   ]
  },
  {
   "cell_type": "code",
   "execution_count": 42,
   "id": "bd05d693",
   "metadata": {},
   "outputs": [
    {
     "data": {
      "text/plain": [
       "1"
      ]
     },
     "execution_count": 42,
     "metadata": {},
     "output_type": "execute_result"
    }
   ],
   "source": [
    "obj.pow(-1,16)"
   ]
  },
  {
   "cell_type": "code",
   "execution_count": 44,
   "id": "6312df7c",
   "metadata": {},
   "outputs": [
    {
     "data": {
      "text/plain": [
       "0"
      ]
     },
     "execution_count": 44,
     "metadata": {},
     "output_type": "execute_result"
    }
   ],
   "source": [
    "obj.pow(0,3)"
   ]
  },
  {
   "cell_type": "code",
   "execution_count": null,
   "id": "b3af51c2",
   "metadata": {},
   "outputs": [],
   "source": []
  }
 ],
 "metadata": {
  "kernelspec": {
   "display_name": "Python 3 (ipykernel)",
   "language": "python",
   "name": "python3"
  },
  "language_info": {
   "codemirror_mode": {
    "name": "ipython",
    "version": 3
   },
   "file_extension": ".py",
   "mimetype": "text/x-python",
   "name": "python",
   "nbconvert_exporter": "python",
   "pygments_lexer": "ipython3",
   "version": "3.9.7"
  }
 },
 "nbformat": 4,
 "nbformat_minor": 5
}
